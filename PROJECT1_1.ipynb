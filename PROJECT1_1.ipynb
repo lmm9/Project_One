{
 "cells": [
  {
   "cell_type": "code",
   "execution_count": 1,
   "metadata": {},
   "outputs": [
    {
     "name": "stderr",
     "output_type": "stream",
     "text": [
      "C:\\Users\\obaya\\anaconda3\\lib\\site-packages\\IPython\\core\\interactiveshell.py:3063: DtypeWarning: Columns (1) have mixed types.Specify dtype option on import or set low_memory=False.\n",
      "  interactivity=interactivity, compiler=compiler, result=result)\n"
     ]
    },
    {
     "data": {
      "text/html": [
       "<div>\n",
       "<style scoped>\n",
       "    .dataframe tbody tr th:only-of-type {\n",
       "        vertical-align: middle;\n",
       "    }\n",
       "\n",
       "    .dataframe tbody tr th {\n",
       "        vertical-align: top;\n",
       "    }\n",
       "\n",
       "    .dataframe thead th {\n",
       "        text-align: right;\n",
       "    }\n",
       "</style>\n",
       "<table border=\"1\" class=\"dataframe\">\n",
       "  <thead>\n",
       "    <tr style=\"text-align: right;\">\n",
       "      <th></th>\n",
       "      <th>cdc_report_dt</th>\n",
       "      <th>pos_spec_dt</th>\n",
       "      <th>onset_dt</th>\n",
       "      <th>current_status</th>\n",
       "      <th>sex</th>\n",
       "      <th>age_group</th>\n",
       "      <th>Race and ethnicity (combined)</th>\n",
       "      <th>hosp_yn</th>\n",
       "      <th>icu_yn</th>\n",
       "      <th>death_yn</th>\n",
       "      <th>medcond_yn</th>\n",
       "    </tr>\n",
       "  </thead>\n",
       "  <tbody>\n",
       "    <tr>\n",
       "      <th>0</th>\n",
       "      <td>2020/07/03</td>\n",
       "      <td>NaN</td>\n",
       "      <td>NaN</td>\n",
       "      <td>Laboratory-confirmed case</td>\n",
       "      <td>Female</td>\n",
       "      <td>0 - 9 Years</td>\n",
       "      <td>American Indian/Alaska Native, Non-Hispanic</td>\n",
       "      <td>Missing</td>\n",
       "      <td>Missing</td>\n",
       "      <td>Missing</td>\n",
       "      <td>Missing</td>\n",
       "    </tr>\n",
       "    <tr>\n",
       "      <th>1</th>\n",
       "      <td>2020/05/27</td>\n",
       "      <td>NaN</td>\n",
       "      <td>NaN</td>\n",
       "      <td>Laboratory-confirmed case</td>\n",
       "      <td>Female</td>\n",
       "      <td>0 - 9 Years</td>\n",
       "      <td>American Indian/Alaska Native, Non-Hispanic</td>\n",
       "      <td>No</td>\n",
       "      <td>Missing</td>\n",
       "      <td>No</td>\n",
       "      <td>Missing</td>\n",
       "    </tr>\n",
       "    <tr>\n",
       "      <th>2</th>\n",
       "      <td>2020/06/06</td>\n",
       "      <td>NaN</td>\n",
       "      <td>NaN</td>\n",
       "      <td>Laboratory-confirmed case</td>\n",
       "      <td>Female</td>\n",
       "      <td>0 - 9 Years</td>\n",
       "      <td>American Indian/Alaska Native, Non-Hispanic</td>\n",
       "      <td>Missing</td>\n",
       "      <td>Missing</td>\n",
       "      <td>Missing</td>\n",
       "      <td>Missing</td>\n",
       "    </tr>\n",
       "    <tr>\n",
       "      <th>3</th>\n",
       "      <td>2020/06/28</td>\n",
       "      <td>NaN</td>\n",
       "      <td>NaN</td>\n",
       "      <td>Laboratory-confirmed case</td>\n",
       "      <td>Female</td>\n",
       "      <td>0 - 9 Years</td>\n",
       "      <td>American Indian/Alaska Native, Non-Hispanic</td>\n",
       "      <td>Missing</td>\n",
       "      <td>Missing</td>\n",
       "      <td>Missing</td>\n",
       "      <td>Missing</td>\n",
       "    </tr>\n",
       "    <tr>\n",
       "      <th>4</th>\n",
       "      <td>2020/07/06</td>\n",
       "      <td>NaN</td>\n",
       "      <td>NaN</td>\n",
       "      <td>Laboratory-confirmed case</td>\n",
       "      <td>Female</td>\n",
       "      <td>0 - 9 Years</td>\n",
       "      <td>American Indian/Alaska Native, Non-Hispanic</td>\n",
       "      <td>Missing</td>\n",
       "      <td>Missing</td>\n",
       "      <td>Missing</td>\n",
       "      <td>Missing</td>\n",
       "    </tr>\n",
       "    <tr>\n",
       "      <th>...</th>\n",
       "      <td>...</td>\n",
       "      <td>...</td>\n",
       "      <td>...</td>\n",
       "      <td>...</td>\n",
       "      <td>...</td>\n",
       "      <td>...</td>\n",
       "      <td>...</td>\n",
       "      <td>...</td>\n",
       "      <td>...</td>\n",
       "      <td>...</td>\n",
       "      <td>...</td>\n",
       "    </tr>\n",
       "    <tr>\n",
       "      <th>2668170</th>\n",
       "      <td>2020/03/18</td>\n",
       "      <td>2020/03/18</td>\n",
       "      <td>NaN</td>\n",
       "      <td>Laboratory-confirmed case</td>\n",
       "      <td>Male</td>\n",
       "      <td>60 - 69 Years</td>\n",
       "      <td>Unknown</td>\n",
       "      <td>Yes</td>\n",
       "      <td>Unknown</td>\n",
       "      <td>Unknown</td>\n",
       "      <td>Yes</td>\n",
       "    </tr>\n",
       "    <tr>\n",
       "      <th>2668171</th>\n",
       "      <td>2020/05/20</td>\n",
       "      <td>2020/03/18</td>\n",
       "      <td>NaN</td>\n",
       "      <td>Laboratory-confirmed case</td>\n",
       "      <td>Male</td>\n",
       "      <td>60 - 69 Years</td>\n",
       "      <td>Unknown</td>\n",
       "      <td>Missing</td>\n",
       "      <td>Missing</td>\n",
       "      <td>No</td>\n",
       "      <td>Missing</td>\n",
       "    </tr>\n",
       "    <tr>\n",
       "      <th>2668172</th>\n",
       "      <td>2020/04/02</td>\n",
       "      <td>2020/03/18</td>\n",
       "      <td>2020/03/15</td>\n",
       "      <td>Laboratory-confirmed case</td>\n",
       "      <td>Male</td>\n",
       "      <td>60 - 69 Years</td>\n",
       "      <td>Unknown</td>\n",
       "      <td>No</td>\n",
       "      <td>Missing</td>\n",
       "      <td>No</td>\n",
       "      <td>Missing</td>\n",
       "    </tr>\n",
       "    <tr>\n",
       "      <th>2668173</th>\n",
       "      <td>2020/03/25</td>\n",
       "      <td>2020/03/18</td>\n",
       "      <td>NaN</td>\n",
       "      <td>Laboratory-confirmed case</td>\n",
       "      <td>Male</td>\n",
       "      <td>60 - 69 Years</td>\n",
       "      <td>Unknown</td>\n",
       "      <td>Unknown</td>\n",
       "      <td>Unknown</td>\n",
       "      <td>Unknown</td>\n",
       "      <td>Yes</td>\n",
       "    </tr>\n",
       "    <tr>\n",
       "      <th>2668174</th>\n",
       "      <td>2020/03/24</td>\n",
       "      <td>2020/03/18</td>\n",
       "      <td>NaN</td>\n",
       "      <td>Laboratory-confirmed case</td>\n",
       "      <td>Male</td>\n",
       "      <td>60 - 69 Years</td>\n",
       "      <td>Unknown</td>\n",
       "      <td>Yes</td>\n",
       "      <td>Unknown</td>\n",
       "      <td>Unknown</td>\n",
       "      <td>Yes</td>\n",
       "    </tr>\n",
       "  </tbody>\n",
       "</table>\n",
       "<p>2668175 rows × 11 columns</p>\n",
       "</div>"
      ],
      "text/plain": [
       "        cdc_report_dt pos_spec_dt    onset_dt             current_status  \\\n",
       "0          2020/07/03         NaN         NaN  Laboratory-confirmed case   \n",
       "1          2020/05/27         NaN         NaN  Laboratory-confirmed case   \n",
       "2          2020/06/06         NaN         NaN  Laboratory-confirmed case   \n",
       "3          2020/06/28         NaN         NaN  Laboratory-confirmed case   \n",
       "4          2020/07/06         NaN         NaN  Laboratory-confirmed case   \n",
       "...               ...         ...         ...                        ...   \n",
       "2668170    2020/03/18  2020/03/18         NaN  Laboratory-confirmed case   \n",
       "2668171    2020/05/20  2020/03/18         NaN  Laboratory-confirmed case   \n",
       "2668172    2020/04/02  2020/03/18  2020/03/15  Laboratory-confirmed case   \n",
       "2668173    2020/03/25  2020/03/18         NaN  Laboratory-confirmed case   \n",
       "2668174    2020/03/24  2020/03/18         NaN  Laboratory-confirmed case   \n",
       "\n",
       "            sex      age_group                Race and ethnicity (combined)  \\\n",
       "0        Female    0 - 9 Years  American Indian/Alaska Native, Non-Hispanic   \n",
       "1        Female    0 - 9 Years  American Indian/Alaska Native, Non-Hispanic   \n",
       "2        Female    0 - 9 Years  American Indian/Alaska Native, Non-Hispanic   \n",
       "3        Female    0 - 9 Years  American Indian/Alaska Native, Non-Hispanic   \n",
       "4        Female    0 - 9 Years  American Indian/Alaska Native, Non-Hispanic   \n",
       "...         ...            ...                                          ...   \n",
       "2668170    Male  60 - 69 Years                                      Unknown   \n",
       "2668171    Male  60 - 69 Years                                      Unknown   \n",
       "2668172    Male  60 - 69 Years                                      Unknown   \n",
       "2668173    Male  60 - 69 Years                                      Unknown   \n",
       "2668174    Male  60 - 69 Years                                      Unknown   \n",
       "\n",
       "         hosp_yn   icu_yn death_yn medcond_yn  \n",
       "0        Missing  Missing  Missing    Missing  \n",
       "1             No  Missing       No    Missing  \n",
       "2        Missing  Missing  Missing    Missing  \n",
       "3        Missing  Missing  Missing    Missing  \n",
       "4        Missing  Missing  Missing    Missing  \n",
       "...          ...      ...      ...        ...  \n",
       "2668170      Yes  Unknown  Unknown        Yes  \n",
       "2668171  Missing  Missing       No    Missing  \n",
       "2668172       No  Missing       No    Missing  \n",
       "2668173  Unknown  Unknown  Unknown        Yes  \n",
       "2668174      Yes  Unknown  Unknown        Yes  \n",
       "\n",
       "[2668175 rows x 11 columns]"
      ]
     },
     "execution_count": 1,
     "metadata": {},
     "output_type": "execute_result"
    }
   ],
   "source": [
    "import pandas as pd\n",
    "df = pd.read_csv(\"COVID-19_Case_Surveillance_Public_Use_Data.csv\")\n",
    "df"
   ]
  },
  {
   "cell_type": "code",
   "execution_count": 2,
   "metadata": {},
   "outputs": [
    {
     "data": {
      "text/html": [
       "<div>\n",
       "<style scoped>\n",
       "    .dataframe tbody tr th:only-of-type {\n",
       "        vertical-align: middle;\n",
       "    }\n",
       "\n",
       "    .dataframe tbody tr th {\n",
       "        vertical-align: top;\n",
       "    }\n",
       "\n",
       "    .dataframe thead th {\n",
       "        text-align: right;\n",
       "    }\n",
       "</style>\n",
       "<table border=\"1\" class=\"dataframe\">\n",
       "  <thead>\n",
       "    <tr style=\"text-align: right;\">\n",
       "      <th></th>\n",
       "      <th>cdc_report_dt</th>\n",
       "      <th>pos_spec_dt</th>\n",
       "      <th>onset_dt</th>\n",
       "      <th>current_status</th>\n",
       "      <th>sex</th>\n",
       "      <th>age_group</th>\n",
       "      <th>Race and ethnicity (combined)</th>\n",
       "      <th>hosp_yn</th>\n",
       "      <th>icu_yn</th>\n",
       "      <th>death_yn</th>\n",
       "      <th>medcond_yn</th>\n",
       "    </tr>\n",
       "  </thead>\n",
       "  <tbody>\n",
       "    <tr>\n",
       "      <th>0</th>\n",
       "      <td>2020/07/03</td>\n",
       "      <td>0</td>\n",
       "      <td>0</td>\n",
       "      <td>Laboratory-confirmed case</td>\n",
       "      <td>Female</td>\n",
       "      <td>0 - 9 Years</td>\n",
       "      <td>American Indian/Alaska Native, Non-Hispanic</td>\n",
       "      <td>Missing</td>\n",
       "      <td>Missing</td>\n",
       "      <td>Missing</td>\n",
       "      <td>Missing</td>\n",
       "    </tr>\n",
       "    <tr>\n",
       "      <th>1</th>\n",
       "      <td>2020/05/27</td>\n",
       "      <td>0</td>\n",
       "      <td>0</td>\n",
       "      <td>Laboratory-confirmed case</td>\n",
       "      <td>Female</td>\n",
       "      <td>0 - 9 Years</td>\n",
       "      <td>American Indian/Alaska Native, Non-Hispanic</td>\n",
       "      <td>No</td>\n",
       "      <td>Missing</td>\n",
       "      <td>No</td>\n",
       "      <td>Missing</td>\n",
       "    </tr>\n",
       "    <tr>\n",
       "      <th>2</th>\n",
       "      <td>2020/06/06</td>\n",
       "      <td>0</td>\n",
       "      <td>0</td>\n",
       "      <td>Laboratory-confirmed case</td>\n",
       "      <td>Female</td>\n",
       "      <td>0 - 9 Years</td>\n",
       "      <td>American Indian/Alaska Native, Non-Hispanic</td>\n",
       "      <td>Missing</td>\n",
       "      <td>Missing</td>\n",
       "      <td>Missing</td>\n",
       "      <td>Missing</td>\n",
       "    </tr>\n",
       "    <tr>\n",
       "      <th>3</th>\n",
       "      <td>2020/06/28</td>\n",
       "      <td>0</td>\n",
       "      <td>0</td>\n",
       "      <td>Laboratory-confirmed case</td>\n",
       "      <td>Female</td>\n",
       "      <td>0 - 9 Years</td>\n",
       "      <td>American Indian/Alaska Native, Non-Hispanic</td>\n",
       "      <td>Missing</td>\n",
       "      <td>Missing</td>\n",
       "      <td>Missing</td>\n",
       "      <td>Missing</td>\n",
       "    </tr>\n",
       "    <tr>\n",
       "      <th>4</th>\n",
       "      <td>2020/07/06</td>\n",
       "      <td>0</td>\n",
       "      <td>0</td>\n",
       "      <td>Laboratory-confirmed case</td>\n",
       "      <td>Female</td>\n",
       "      <td>0 - 9 Years</td>\n",
       "      <td>American Indian/Alaska Native, Non-Hispanic</td>\n",
       "      <td>Missing</td>\n",
       "      <td>Missing</td>\n",
       "      <td>Missing</td>\n",
       "      <td>Missing</td>\n",
       "    </tr>\n",
       "    <tr>\n",
       "      <th>...</th>\n",
       "      <td>...</td>\n",
       "      <td>...</td>\n",
       "      <td>...</td>\n",
       "      <td>...</td>\n",
       "      <td>...</td>\n",
       "      <td>...</td>\n",
       "      <td>...</td>\n",
       "      <td>...</td>\n",
       "      <td>...</td>\n",
       "      <td>...</td>\n",
       "      <td>...</td>\n",
       "    </tr>\n",
       "    <tr>\n",
       "      <th>2668170</th>\n",
       "      <td>2020/03/18</td>\n",
       "      <td>2020/03/18</td>\n",
       "      <td>0</td>\n",
       "      <td>Laboratory-confirmed case</td>\n",
       "      <td>Male</td>\n",
       "      <td>60 - 69 Years</td>\n",
       "      <td>Unknown</td>\n",
       "      <td>Yes</td>\n",
       "      <td>Unknown</td>\n",
       "      <td>Unknown</td>\n",
       "      <td>Yes</td>\n",
       "    </tr>\n",
       "    <tr>\n",
       "      <th>2668171</th>\n",
       "      <td>2020/05/20</td>\n",
       "      <td>2020/03/18</td>\n",
       "      <td>0</td>\n",
       "      <td>Laboratory-confirmed case</td>\n",
       "      <td>Male</td>\n",
       "      <td>60 - 69 Years</td>\n",
       "      <td>Unknown</td>\n",
       "      <td>Missing</td>\n",
       "      <td>Missing</td>\n",
       "      <td>No</td>\n",
       "      <td>Missing</td>\n",
       "    </tr>\n",
       "    <tr>\n",
       "      <th>2668172</th>\n",
       "      <td>2020/04/02</td>\n",
       "      <td>2020/03/18</td>\n",
       "      <td>2020/03/15</td>\n",
       "      <td>Laboratory-confirmed case</td>\n",
       "      <td>Male</td>\n",
       "      <td>60 - 69 Years</td>\n",
       "      <td>Unknown</td>\n",
       "      <td>No</td>\n",
       "      <td>Missing</td>\n",
       "      <td>No</td>\n",
       "      <td>Missing</td>\n",
       "    </tr>\n",
       "    <tr>\n",
       "      <th>2668173</th>\n",
       "      <td>2020/03/25</td>\n",
       "      <td>2020/03/18</td>\n",
       "      <td>0</td>\n",
       "      <td>Laboratory-confirmed case</td>\n",
       "      <td>Male</td>\n",
       "      <td>60 - 69 Years</td>\n",
       "      <td>Unknown</td>\n",
       "      <td>Unknown</td>\n",
       "      <td>Unknown</td>\n",
       "      <td>Unknown</td>\n",
       "      <td>Yes</td>\n",
       "    </tr>\n",
       "    <tr>\n",
       "      <th>2668174</th>\n",
       "      <td>2020/03/24</td>\n",
       "      <td>2020/03/18</td>\n",
       "      <td>0</td>\n",
       "      <td>Laboratory-confirmed case</td>\n",
       "      <td>Male</td>\n",
       "      <td>60 - 69 Years</td>\n",
       "      <td>Unknown</td>\n",
       "      <td>Yes</td>\n",
       "      <td>Unknown</td>\n",
       "      <td>Unknown</td>\n",
       "      <td>Yes</td>\n",
       "    </tr>\n",
       "  </tbody>\n",
       "</table>\n",
       "<p>2668175 rows × 11 columns</p>\n",
       "</div>"
      ],
      "text/plain": [
       "        cdc_report_dt pos_spec_dt    onset_dt             current_status  \\\n",
       "0          2020/07/03           0           0  Laboratory-confirmed case   \n",
       "1          2020/05/27           0           0  Laboratory-confirmed case   \n",
       "2          2020/06/06           0           0  Laboratory-confirmed case   \n",
       "3          2020/06/28           0           0  Laboratory-confirmed case   \n",
       "4          2020/07/06           0           0  Laboratory-confirmed case   \n",
       "...               ...         ...         ...                        ...   \n",
       "2668170    2020/03/18  2020/03/18           0  Laboratory-confirmed case   \n",
       "2668171    2020/05/20  2020/03/18           0  Laboratory-confirmed case   \n",
       "2668172    2020/04/02  2020/03/18  2020/03/15  Laboratory-confirmed case   \n",
       "2668173    2020/03/25  2020/03/18           0  Laboratory-confirmed case   \n",
       "2668174    2020/03/24  2020/03/18           0  Laboratory-confirmed case   \n",
       "\n",
       "            sex      age_group                Race and ethnicity (combined)  \\\n",
       "0        Female    0 - 9 Years  American Indian/Alaska Native, Non-Hispanic   \n",
       "1        Female    0 - 9 Years  American Indian/Alaska Native, Non-Hispanic   \n",
       "2        Female    0 - 9 Years  American Indian/Alaska Native, Non-Hispanic   \n",
       "3        Female    0 - 9 Years  American Indian/Alaska Native, Non-Hispanic   \n",
       "4        Female    0 - 9 Years  American Indian/Alaska Native, Non-Hispanic   \n",
       "...         ...            ...                                          ...   \n",
       "2668170    Male  60 - 69 Years                                      Unknown   \n",
       "2668171    Male  60 - 69 Years                                      Unknown   \n",
       "2668172    Male  60 - 69 Years                                      Unknown   \n",
       "2668173    Male  60 - 69 Years                                      Unknown   \n",
       "2668174    Male  60 - 69 Years                                      Unknown   \n",
       "\n",
       "         hosp_yn   icu_yn death_yn medcond_yn  \n",
       "0        Missing  Missing  Missing    Missing  \n",
       "1             No  Missing       No    Missing  \n",
       "2        Missing  Missing  Missing    Missing  \n",
       "3        Missing  Missing  Missing    Missing  \n",
       "4        Missing  Missing  Missing    Missing  \n",
       "...          ...      ...      ...        ...  \n",
       "2668170      Yes  Unknown  Unknown        Yes  \n",
       "2668171  Missing  Missing       No    Missing  \n",
       "2668172       No  Missing       No    Missing  \n",
       "2668173  Unknown  Unknown  Unknown        Yes  \n",
       "2668174      Yes  Unknown  Unknown        Yes  \n",
       "\n",
       "[2668175 rows x 11 columns]"
      ]
     },
     "execution_count": 2,
     "metadata": {},
     "output_type": "execute_result"
    }
   ],
   "source": [
    "df.fillna(0,inplace=True)\n",
    "df"
   ]
  },
  {
   "cell_type": "code",
   "execution_count": 3,
   "metadata": {},
   "outputs": [
    {
     "data": {
      "text/plain": [
       "<matplotlib.axes._subplots.AxesSubplot at 0x1530e83c508>"
      ]
     },
     "execution_count": 3,
     "metadata": {},
     "output_type": "execute_result"
    },
    {
     "data": {
      "image/png": "[encoded data removed]",
      "text/plain": [
       "<Figure size 432x288 with 1 Axes>"
      ]
     },
     "metadata": {
      "needs_background": "light"
     },
     "output_type": "display_data"
    }
   ],
   "source": [
    "df[\"sex\"].value_counts().plot()"
   ]
  },
  {
   "cell_type": "code",
   "execution_count": 4,
   "metadata": {},
   "outputs": [
    {
     "data": {
      "image/png": "[encoded data removed]",
      "text/plain": [
       "<Figure size 504x360 with 1 Axes>"
      ]
     },
     "metadata": {
      "needs_background": "light"
     },
     "output_type": "display_data"
    }
   ],
   "source": [
    "from matplotlib import pyplot as plt\n",
    "# removed the unwanted data of Missing, Unknown and Other\n",
    "df2 = df[(df[\"sex\"] == \"Male\") | (df[\"sex\"] == \"Female\")] \n",
    "#show the Percentage value.\n",
    "df3 =(df2['sex'].value_counts()/df2['sex'].count())*100  \n",
    "#plot the Graph\n",
    "ax = df3.plot.bar(color=['green', 'red'],title=\"Gender wise cases\", figsize=(7,5), zorder=2, width=0.5)\n",
    "# add the labels\n",
    "plt.xlabel(\"Gender\")\n",
    "plt.ylabel(\"Percentage Cases\")\n",
    "plt.xticks(rotation=30, horizontalalignment=\"center\")\n",
    "ax.set_yticks(range(0,70,5)) \n",
    "df4=df2[\"sex\"].value_counts()\n",
    "#Add the text on top of bar chart\n",
    "j=0\n",
    "for i in df3.index: \n",
    "    str1 = i + \":\" + str(df3[i].round(2)) + \"%\\n(\" + str(df4[i]) + \")\"\n",
    "    ax.text(j,55,str1, ha='center', va='center')\n",
    "    j +=1"
   ]
  },
  {
   "cell_type": "code",
   "execution_count": 5,
   "metadata": {},
   "outputs": [
    {
     "data": {
      "text/plain": [
       "20 - 29 Years    468471\n",
       "30 - 39 Years    450637\n",
       "40 - 49 Years    428478\n",
       "50 - 59 Years    427865\n",
       "60 - 69 Years    307648\n",
       "80+ Years        177459\n",
       "70 - 79 Years    175515\n",
       "10 - 19 Years    161352\n",
       "0 - 9 Years       67700\n",
       "Unknown            2969\n",
       "0                    81\n",
       "Name: age_group, dtype: int64"
      ]
     },
     "execution_count": 5,
     "metadata": {},
     "output_type": "execute_result"
    }
   ],
   "source": [
    "df[\"age_group\"].value_counts()"
   ]
  },
  {
   "cell_type": "code",
   "execution_count": 6,
   "metadata": {},
   "outputs": [],
   "source": [
    "age_group_df1 = df[\"age_group\"].value_counts()"
   ]
  },
  {
   "cell_type": "code",
   "execution_count": 7,
   "metadata": {},
   "outputs": [
    {
     "data": {
      "text/plain": [
       "<matplotlib.axes._subplots.AxesSubplot at 0x1530f1a7c88>"
      ]
     },
     "execution_count": 7,
     "metadata": {},
     "output_type": "execute_result"
    },
    {
     "data": {
      "image/png": "[encoded data removed]",
      "text/plain": [
       "<Figure size 432x288 with 1 Axes>"
      ]
     },
     "metadata": {
      "needs_background": "light"
     },
     "output_type": "display_data"
    }
   ],
   "source": [
    "age_group_df1.plot()"
   ]
  },
  {
   "cell_type": "code",
   "execution_count": 8,
   "metadata": {},
   "outputs": [],
   "source": [
    "age_group_df = df[(df[\"age_group\"] != 0) &  (df[\"age_group\"] != \"Unknown\")] "
   ]
  },
  {
   "cell_type": "code",
   "execution_count": 9,
   "metadata": {},
   "outputs": [],
   "source": [
    "age_group_df1 = age_group_df[\"age_group\"].value_counts(sort=False)"
   ]
  },
  {
   "cell_type": "code",
   "execution_count": 10,
   "metadata": {},
   "outputs": [
    {
     "data": {
      "text/plain": [
       "20 - 29 Years    468471\n",
       "70 - 79 Years    175515\n",
       "30 - 39 Years    450637\n",
       "80+ Years        177459\n",
       "50 - 59 Years    427865\n",
       "60 - 69 Years    307648\n",
       "40 - 49 Years    428478\n",
       "10 - 19 Years    161352\n",
       "0 - 9 Years       67700\n",
       "Name: age_group, dtype: int64"
      ]
     },
     "execution_count": 10,
     "metadata": {},
     "output_type": "execute_result"
    }
   ],
   "source": [
    "age_group_df1"
   ]
  },
  {
   "cell_type": "code",
   "execution_count": 11,
   "metadata": {},
   "outputs": [
    {
     "data": {
      "image/png": "[encoded data removed]",
      "text/plain": [
       "<Figure size 1080x504 with 1 Axes>"
      ]
     },
     "metadata": {
      "needs_background": "light"
     },
     "output_type": "display_data"
    }
   ],
   "source": [
    "age_group_df = df[(df[\"age_group\"] != 0) &  (df[\"age_group\"] != \"Unknown\")] \n",
    "age_group_df1 = age_group_df[\"age_group\"].value_counts()\n",
    "ax = age_group_df1.plot(color=['red'],title=\"Age Group wise cases\", figsize=(15,7),marker='o')"
   ]
  },
  {
   "cell_type": "code",
   "execution_count": 12,
   "metadata": {},
   "outputs": [
    {
     "data": {
      "text/plain": [
       "array(['0 - 9 Years', '10 - 19 Years', '20 - 29 Years', '30 - 39 Years',\n",
       "       '40 - 49 Years', '50 - 59 Years', '60 - 69 Years', '70 - 79 Years',\n",
       "       '80+ Years'], dtype=object)"
      ]
     },
     "execution_count": 12,
     "metadata": {},
     "output_type": "execute_result"
    }
   ],
   "source": [
    "age_group_df[\"age_group\"].unique()"
   ]
  },
  {
   "cell_type": "code",
   "execution_count": 13,
   "metadata": {},
   "outputs": [
    {
     "name": "stdout",
     "output_type": "stream",
     "text": [
      "67700\n",
      "161352\n",
      "468471\n",
      "450637\n",
      "428478\n",
      "427865\n",
      "307648\n",
      "175515\n",
      "177459\n"
     ]
    }
   ],
   "source": [
    "for age_group in age_group_df[\"age_group\"].unique():\n",
    "    print (age_group_df1[age_group])"
   ]
  },
  {
   "cell_type": "code",
   "execution_count": 14,
   "metadata": {},
   "outputs": [
    {
     "data": {
      "text/plain": [
       "0 - 9 Years       67700\n",
       "10 - 19 Years    161352\n",
       "20 - 29 Years    468471\n",
       "30 - 39 Years    450637\n",
       "40 - 49 Years    428478\n",
       "50 - 59 Years    427865\n",
       "60 - 69 Years    307648\n",
       "70 - 79 Years    175515\n",
       "80+ Years        177459\n",
       "Name: age_group, dtype: int64"
      ]
     },
     "execution_count": 14,
     "metadata": {},
     "output_type": "execute_result"
    }
   ],
   "source": [
    "age_group_df1.sort_index()"
   ]
  },
  {
   "cell_type": "code",
   "execution_count": 15,
   "metadata": {},
   "outputs": [
    {
     "data": {
      "image/png": "[encoded data removed]",
      "text/plain": [
       "<Figure size 1080x504 with 1 Axes>"
      ]
     },
     "metadata": {
      "needs_background": "light"
     },
     "output_type": "display_data"
    }
   ],
   "source": [
    "age_group_df1 = age_group_df[\"age_group\"].value_counts()\n",
    "age_group_df1.sort_index(inplace=True)\n",
    "ax = age_group_df1.plot(color=['red'],title=\"Age Group wise cases\", figsize=(15,7),marker='o')"
   ]
  },
  {
   "cell_type": "code",
   "execution_count": 16,
   "metadata": {},
   "outputs": [
    {
     "data": {
      "text/plain": [
       "Unknown                                                 1254212\n",
       "White, Non-Hispanic                                      534756\n",
       "Hispanic/Latino                                          445045\n",
       "Black, Non-Hispanic                                      292357\n",
       "Multiple/Other, Non-Hispanic                              62323\n",
       "Asian, Non-Hispanic                                       54412\n",
       "American Indian/Alaska Native, Non-Hispanic               19434\n",
       "Native Hawaiian/Other Pacific Islander, Non-Hispanic       5629\n",
       "0                                                             7\n",
       "Name: Race and ethnicity (combined), dtype: int64"
      ]
     },
     "execution_count": 16,
     "metadata": {},
     "output_type": "execute_result"
    }
   ],
   "source": [
    "df[\"Race and ethnicity (combined)\"].value_counts()"
   ]
  },
  {
   "cell_type": "code",
   "execution_count": 17,
   "metadata": {},
   "outputs": [],
   "source": [
    "race_ethnicity_df1 = df[(df[\"Race and ethnicity (combined)\"] != \"Unknown\") & (df[\"Race and ethnicity (combined)\"] != 0)]"
   ]
  },
  {
   "cell_type": "code",
   "execution_count": 18,
   "metadata": {},
   "outputs": [
    {
     "data": {
      "text/html": [
       "<div>\n",
       "<style scoped>\n",
       "    .dataframe tbody tr th:only-of-type {\n",
       "        vertical-align: middle;\n",
       "    }\n",
       "\n",
       "    .dataframe tbody tr th {\n",
       "        vertical-align: top;\n",
       "    }\n",
       "\n",
       "    .dataframe thead th {\n",
       "        text-align: right;\n",
       "    }\n",
       "</style>\n",
       "<table border=\"1\" class=\"dataframe\">\n",
       "  <thead>\n",
       "    <tr style=\"text-align: right;\">\n",
       "      <th></th>\n",
       "      <th>cdc_report_dt</th>\n",
       "      <th>pos_spec_dt</th>\n",
       "      <th>onset_dt</th>\n",
       "      <th>current_status</th>\n",
       "      <th>sex</th>\n",
       "      <th>age_group</th>\n",
       "      <th>Race and ethnicity (combined)</th>\n",
       "      <th>hosp_yn</th>\n",
       "      <th>icu_yn</th>\n",
       "      <th>death_yn</th>\n",
       "      <th>medcond_yn</th>\n",
       "    </tr>\n",
       "  </thead>\n",
       "  <tbody>\n",
       "    <tr>\n",
       "      <th>0</th>\n",
       "      <td>2020/07/03</td>\n",
       "      <td>0</td>\n",
       "      <td>0</td>\n",
       "      <td>Laboratory-confirmed case</td>\n",
       "      <td>Female</td>\n",
       "      <td>0 - 9 Years</td>\n",
       "      <td>American Indian/Alaska Native, Non-Hispanic</td>\n",
       "      <td>Missing</td>\n",
       "      <td>Missing</td>\n",
       "      <td>Missing</td>\n",
       "      <td>Missing</td>\n",
       "    </tr>\n",
       "    <tr>\n",
       "      <th>1</th>\n",
       "      <td>2020/05/27</td>\n",
       "      <td>0</td>\n",
       "      <td>0</td>\n",
       "      <td>Laboratory-confirmed case</td>\n",
       "      <td>Female</td>\n",
       "      <td>0 - 9 Years</td>\n",
       "      <td>American Indian/Alaska Native, Non-Hispanic</td>\n",
       "      <td>No</td>\n",
       "      <td>Missing</td>\n",
       "      <td>No</td>\n",
       "      <td>Missing</td>\n",
       "    </tr>\n",
       "    <tr>\n",
       "      <th>2</th>\n",
       "      <td>2020/06/06</td>\n",
       "      <td>0</td>\n",
       "      <td>0</td>\n",
       "      <td>Laboratory-confirmed case</td>\n",
       "      <td>Female</td>\n",
       "      <td>0 - 9 Years</td>\n",
       "      <td>American Indian/Alaska Native, Non-Hispanic</td>\n",
       "      <td>Missing</td>\n",
       "      <td>Missing</td>\n",
       "      <td>Missing</td>\n",
       "      <td>Missing</td>\n",
       "    </tr>\n",
       "    <tr>\n",
       "      <th>3</th>\n",
       "      <td>2020/06/28</td>\n",
       "      <td>0</td>\n",
       "      <td>0</td>\n",
       "      <td>Laboratory-confirmed case</td>\n",
       "      <td>Female</td>\n",
       "      <td>0 - 9 Years</td>\n",
       "      <td>American Indian/Alaska Native, Non-Hispanic</td>\n",
       "      <td>Missing</td>\n",
       "      <td>Missing</td>\n",
       "      <td>Missing</td>\n",
       "      <td>Missing</td>\n",
       "    </tr>\n",
       "    <tr>\n",
       "      <th>4</th>\n",
       "      <td>2020/07/06</td>\n",
       "      <td>0</td>\n",
       "      <td>0</td>\n",
       "      <td>Laboratory-confirmed case</td>\n",
       "      <td>Female</td>\n",
       "      <td>0 - 9 Years</td>\n",
       "      <td>American Indian/Alaska Native, Non-Hispanic</td>\n",
       "      <td>Missing</td>\n",
       "      <td>Missing</td>\n",
       "      <td>Missing</td>\n",
       "      <td>Missing</td>\n",
       "    </tr>\n",
       "    <tr>\n",
       "      <th>...</th>\n",
       "      <td>...</td>\n",
       "      <td>...</td>\n",
       "      <td>...</td>\n",
       "      <td>...</td>\n",
       "      <td>...</td>\n",
       "      <td>...</td>\n",
       "      <td>...</td>\n",
       "      <td>...</td>\n",
       "      <td>...</td>\n",
       "      <td>...</td>\n",
       "      <td>...</td>\n",
       "    </tr>\n",
       "    <tr>\n",
       "      <th>2667886</th>\n",
       "      <td>2020/06/05</td>\n",
       "      <td>2020/03/18</td>\n",
       "      <td>2020/03/12</td>\n",
       "      <td>Laboratory-confirmed case</td>\n",
       "      <td>Female</td>\n",
       "      <td>60 - 69 Years</td>\n",
       "      <td>White, Non-Hispanic</td>\n",
       "      <td>No</td>\n",
       "      <td>Unknown</td>\n",
       "      <td>No</td>\n",
       "      <td>Yes</td>\n",
       "    </tr>\n",
       "    <tr>\n",
       "      <th>2667887</th>\n",
       "      <td>2020/03/24</td>\n",
       "      <td>2020/03/18</td>\n",
       "      <td>0</td>\n",
       "      <td>Laboratory-confirmed case</td>\n",
       "      <td>Female</td>\n",
       "      <td>60 - 69 Years</td>\n",
       "      <td>White, Non-Hispanic</td>\n",
       "      <td>Unknown</td>\n",
       "      <td>Unknown</td>\n",
       "      <td>Unknown</td>\n",
       "      <td>Yes</td>\n",
       "    </tr>\n",
       "    <tr>\n",
       "      <th>2667888</th>\n",
       "      <td>2020/03/18</td>\n",
       "      <td>2020/03/18</td>\n",
       "      <td>0</td>\n",
       "      <td>Laboratory-confirmed case</td>\n",
       "      <td>Female</td>\n",
       "      <td>60 - 69 Years</td>\n",
       "      <td>White, Non-Hispanic</td>\n",
       "      <td>Unknown</td>\n",
       "      <td>Unknown</td>\n",
       "      <td>Unknown</td>\n",
       "      <td>Unknown</td>\n",
       "    </tr>\n",
       "    <tr>\n",
       "      <th>2667889</th>\n",
       "      <td>2020/03/18</td>\n",
       "      <td>2020/03/18</td>\n",
       "      <td>0</td>\n",
       "      <td>Laboratory-confirmed case</td>\n",
       "      <td>Female</td>\n",
       "      <td>60 - 69 Years</td>\n",
       "      <td>White, Non-Hispanic</td>\n",
       "      <td>No</td>\n",
       "      <td>No</td>\n",
       "      <td>Unknown</td>\n",
       "      <td>Yes</td>\n",
       "    </tr>\n",
       "    <tr>\n",
       "      <th>2667890</th>\n",
       "      <td>2020/03/26</td>\n",
       "      <td>2020/03/18</td>\n",
       "      <td>2020/03/13</td>\n",
       "      <td>Laboratory-confirmed case</td>\n",
       "      <td>Female</td>\n",
       "      <td>60 - 69 Years</td>\n",
       "      <td>White, Non-Hispanic</td>\n",
       "      <td>No</td>\n",
       "      <td>No</td>\n",
       "      <td>No</td>\n",
       "      <td>Yes</td>\n",
       "    </tr>\n",
       "  </tbody>\n",
       "</table>\n",
       "<p>1413956 rows × 11 columns</p>\n",
       "</div>"
      ],
      "text/plain": [
       "        cdc_report_dt pos_spec_dt    onset_dt             current_status  \\\n",
       "0          2020/07/03           0           0  Laboratory-confirmed case   \n",
       "1          2020/05/27           0           0  Laboratory-confirmed case   \n",
       "2          2020/06/06           0           0  Laboratory-confirmed case   \n",
       "3          2020/06/28           0           0  Laboratory-confirmed case   \n",
       "4          2020/07/06           0           0  Laboratory-confirmed case   \n",
       "...               ...         ...         ...                        ...   \n",
       "2667886    2020/06/05  2020/03/18  2020/03/12  Laboratory-confirmed case   \n",
       "2667887    2020/03/24  2020/03/18           0  Laboratory-confirmed case   \n",
       "2667888    2020/03/18  2020/03/18           0  Laboratory-confirmed case   \n",
       "2667889    2020/03/18  2020/03/18           0  Laboratory-confirmed case   \n",
       "2667890    2020/03/26  2020/03/18  2020/03/13  Laboratory-confirmed case   \n",
       "\n",
       "            sex      age_group                Race and ethnicity (combined)  \\\n",
       "0        Female    0 - 9 Years  American Indian/Alaska Native, Non-Hispanic   \n",
       "1        Female    0 - 9 Years  American Indian/Alaska Native, Non-Hispanic   \n",
       "2        Female    0 - 9 Years  American Indian/Alaska Native, Non-Hispanic   \n",
       "3        Female    0 - 9 Years  American Indian/Alaska Native, Non-Hispanic   \n",
       "4        Female    0 - 9 Years  American Indian/Alaska Native, Non-Hispanic   \n",
       "...         ...            ...                                          ...   \n",
       "2667886  Female  60 - 69 Years                          White, Non-Hispanic   \n",
       "2667887  Female  60 - 69 Years                          White, Non-Hispanic   \n",
       "2667888  Female  60 - 69 Years                          White, Non-Hispanic   \n",
       "2667889  Female  60 - 69 Years                          White, Non-Hispanic   \n",
       "2667890  Female  60 - 69 Years                          White, Non-Hispanic   \n",
       "\n",
       "         hosp_yn   icu_yn death_yn medcond_yn  \n",
       "0        Missing  Missing  Missing    Missing  \n",
       "1             No  Missing       No    Missing  \n",
       "2        Missing  Missing  Missing    Missing  \n",
       "3        Missing  Missing  Missing    Missing  \n",
       "4        Missing  Missing  Missing    Missing  \n",
       "...          ...      ...      ...        ...  \n",
       "2667886       No  Unknown       No        Yes  \n",
       "2667887  Unknown  Unknown  Unknown        Yes  \n",
       "2667888  Unknown  Unknown  Unknown    Unknown  \n",
       "2667889       No       No  Unknown        Yes  \n",
       "2667890       No       No       No        Yes  \n",
       "\n",
       "[1413956 rows x 11 columns]"
      ]
     },
     "execution_count": 18,
     "metadata": {},
     "output_type": "execute_result"
    }
   ],
   "source": [
    "race_ethnicity_df1"
   ]
  },
  {
   "cell_type": "code",
   "execution_count": 19,
   "metadata": {},
   "outputs": [
    {
     "data": {
      "text/plain": [
       "White, Non-Hispanic                                     534756\n",
       "Hispanic/Latino                                         445045\n",
       "Black, Non-Hispanic                                     292357\n",
       "Multiple/Other, Non-Hispanic                             62323\n",
       "Asian, Non-Hispanic                                      54412\n",
       "American Indian/Alaska Native, Non-Hispanic              19434\n",
       "Native Hawaiian/Other Pacific Islander, Non-Hispanic      5629\n",
       "Name: Race and ethnicity (combined), dtype: int64"
      ]
     },
     "execution_count": 19,
     "metadata": {},
     "output_type": "execute_result"
    }
   ],
   "source": [
    "race_ethnicity_df1[\"Race and ethnicity (combined)\"].value_counts()"
   ]
  },
  {
   "cell_type": "code",
   "execution_count": 20,
   "metadata": {},
   "outputs": [],
   "source": [
    "race_ethnicity_df2 = race_ethnicity_df1[\"Race and ethnicity (combined)\"].value_counts()"
   ]
  },
  {
   "cell_type": "code",
   "execution_count": 21,
   "metadata": {},
   "outputs": [
    {
     "data": {
      "text/plain": [
       "<matplotlib.axes._subplots.AxesSubplot at 0x1530f2cb848>"
      ]
     },
     "execution_count": 21,
     "metadata": {},
     "output_type": "execute_result"
    },
    {
     "data": {
      "image/png": "[encoded data removed]",
      "text/plain": [
       "<Figure size 1080x504 with 1 Axes>"
      ]
     },
     "metadata": {},
     "output_type": "display_data"
    }
   ],
   "source": [
    "race_ethnicity_df2.plot.pie(title=\"Race and ethnicity\",figsize=(15,7))"
   ]
  },
  {
   "cell_type": "code",
   "execution_count": null,
   "metadata": {},
   "outputs": [],
   "source": []
  }
 ],
 "metadata": {
  "kernelspec": {
   "display_name": "Python 3",
   "language": "python",
   "name": "python3"
  },
  "language_info": {
   "codemirror_mode": {
    "name": "ipython",
    "version": 3
   },
   "file_extension": ".py",
   "mimetype": "text/x-python",
   "name": "python",
   "nbconvert_exporter": "python",
   "pygments_lexer": "ipython3",
   "version": "3.7.6"
  }
 },
 "nbformat": 4,
 "nbformat_minor": 4
}
